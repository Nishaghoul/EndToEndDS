{
 "cells": [
  {
   "cell_type": "code",
   "execution_count": 6,
   "metadata": {},
   "outputs": [
    {
     "data": {
      "text/plain": [
       "4"
      ]
     },
     "execution_count": 6,
     "metadata": {},
     "output_type": "execute_result"
    }
   ],
   "source": [
    "import numpy as np\n",
    "#CLASS TASK-I\n",
    "#Find the size in bytes of each element of the array.\n",
    "#eg an array of elements of type float64 has itemsize 8 (=64/8).import numpy as np\n",
    "x=np.array([1,2,3])\n",
    "x.itemsize\n",
    "y=np.array([1.2,2.3,4.5])\n",
    "x.itemsize"
   ]
  },
  {
   "cell_type": "code",
   "execution_count": 43,
   "metadata": {},
   "outputs": [
    {
     "name": "stdout",
     "output_type": "stream",
     "text": [
      "[[[1 1 1]]\n",
      "\n",
      " [[0 0 0]]\n",
      "\n",
      " [[1 1 1]]]\n"
     ]
    }
   ],
   "source": [
    "#CLASS TASK-II\n",
    "#create a 3*3 n-dim array\n",
    "#1st row create 3 numbers from np.empty,\n",
    "#2nd row create 3 nos from np.zeros\n",
    "#3rd row create 3 nos from np.ones\n",
    "x=np.array([np.empty(shape=(1,3),dtype=int),np.zeros(shape=(1,3),dtype=int),np.ones(shape=(1,3),dtype=int)])\n",
    "print(x)\n"
   ]
  },
  {
   "cell_type": "code",
   "execution_count": 60,
   "metadata": {},
   "outputs": [
    {
     "name": "stdout",
     "output_type": "stream",
     "text": [
      "[11 14 18 22 26 29 33 37 41 45]\n",
      "Enter the 5th,7th and 9th elt:  26 33 41\n",
      "now using negative indexing  41 33 26\n"
     ]
    }
   ],
   "source": [
    "#CLASS TASK-III\n",
    "#create an array of 10 nos and slice it\n",
    "#to print 5th,7th,9th elet from thestrat\n",
    "#do the same using negative indexing\n",
    "x=np.linspace(11,45,10,dtype=int)\n",
    "print(x)\n",
    "print(\"Enter the 5th,7th and 9th elt: \",x[4],x[6],x[8])\n",
    "print(\"now using negative indexing \",x[-2],x[-4],x[-6])\n"
   ]
  },
  {
   "cell_type": "code",
   "execution_count": 2,
   "metadata": {},
   "outputs": [
    {
     "ename": "NameError",
     "evalue": "name 'np' is not defined",
     "output_type": "error",
     "traceback": [
      "\u001b[1;31m---------------------------------------------------------------------------\u001b[0m",
      "\u001b[1;31mNameError\u001b[0m                                 Traceback (most recent call last)",
      "\u001b[1;32m<ipython-input-2-28d70247d9ac>\u001b[0m in \u001b[0;36m<module>\u001b[1;34m\u001b[0m\n\u001b[0;32m      2\u001b[0m \u001b[1;31m#create a 1d array with random nos\u001b[0m\u001b[1;33m\u001b[0m\u001b[1;33m\u001b[0m\u001b[1;33m\u001b[0m\u001b[0m\n\u001b[0;32m      3\u001b[0m \u001b[1;31m#print another array only whoch returns int\u001b[0m\u001b[1;33m\u001b[0m\u001b[1;33m\u001b[0m\u001b[1;33m\u001b[0m\u001b[0m\n\u001b[1;32m----> 4\u001b[1;33m \u001b[0mx\u001b[0m\u001b[1;33m=\u001b[0m\u001b[0mnp\u001b[0m\u001b[1;33m.\u001b[0m\u001b[0marray\u001b[0m\u001b[1;33m(\u001b[0m\u001b[1;33m[\u001b[0m\u001b[1;36m1\u001b[0m\u001b[1;33m,\u001b[0m\u001b[1;36m2.3\u001b[0m\u001b[1;33m,\u001b[0m\u001b[1;36m5.6\u001b[0m\u001b[1;33m,\u001b[0m\u001b[1;36m33\u001b[0m\u001b[1;33m,\u001b[0m\u001b[1;36m34.56\u001b[0m\u001b[1;33m,\u001b[0m\u001b[1;36m4\u001b[0m\u001b[1;33m,\u001b[0m\u001b[1;36m4.55\u001b[0m\u001b[1;33m,\u001b[0m\u001b[1;36m5.66\u001b[0m\u001b[1;33m]\u001b[0m\u001b[1;33m)\u001b[0m\u001b[1;33m\u001b[0m\u001b[1;33m\u001b[0m\u001b[0m\n\u001b[0m\u001b[0;32m      5\u001b[0m \u001b[0my\u001b[0m\u001b[1;33m=\u001b[0m\u001b[0mx\u001b[0m\u001b[1;33m.\u001b[0m\u001b[0mastype\u001b[0m\u001b[1;33m(\u001b[0m\u001b[0mint\u001b[0m\u001b[1;33m)\u001b[0m\u001b[1;33m\u001b[0m\u001b[1;33m\u001b[0m\u001b[0m\n",
      "\u001b[1;31mNameError\u001b[0m: name 'np' is not defined"
     ]
    }
   ],
   "source": [
    "#CLASS TASK-IV\n",
    "#create a 1d array with random nos\n",
    "#print another array only whoch returns int\n",
    "x=np.array([1,2.3,5.6,33,34.56,4,4.55,5.66])\n",
    "y=x.astype(int)"
   ]
  },
  {
   "cell_type": "code",
   "execution_count": 3,
   "metadata": {},
   "outputs": [
    {
     "ename": "NameError",
     "evalue": "name 'np' is not defined",
     "output_type": "error",
     "traceback": [
      "\u001b[1;31m---------------------------------------------------------------------------\u001b[0m",
      "\u001b[1;31mNameError\u001b[0m                                 Traceback (most recent call last)",
      "\u001b[1;32m<ipython-input-3-9c325cef681a>\u001b[0m in \u001b[0;36m<module>\u001b[1;34m\u001b[0m\n\u001b[0;32m      1\u001b[0m \u001b[1;31m#CLASS TASK-V\u001b[0m\u001b[1;33m\u001b[0m\u001b[1;33m\u001b[0m\u001b[1;33m\u001b[0m\u001b[0m\n\u001b[0;32m      2\u001b[0m \u001b[1;31m#consider X\u001b[0m\u001b[1;33m\u001b[0m\u001b[1;33m\u001b[0m\u001b[1;33m\u001b[0m\u001b[0m\n\u001b[1;32m----> 3\u001b[1;33m \u001b[0mx\u001b[0m\u001b[1;33m=\u001b[0m\u001b[0mnp\u001b[0m\u001b[1;33m.\u001b[0m\u001b[0marray\u001b[0m\u001b[1;33m(\u001b[0m\u001b[1;33m[\u001b[0m\u001b[1;33m[\u001b[0m\u001b[1;36m0\u001b[0m\u001b[1;33m,\u001b[0m\u001b[1;36m1\u001b[0m\u001b[1;33m,\u001b[0m\u001b[1;36m2\u001b[0m\u001b[1;33m]\u001b[0m\u001b[1;33m,\u001b[0m\u001b[1;33m[\u001b[0m\u001b[1;36m3\u001b[0m\u001b[1;33m,\u001b[0m\u001b[1;36m4\u001b[0m\u001b[1;33m,\u001b[0m\u001b[1;36m5\u001b[0m\u001b[1;33m]\u001b[0m\u001b[1;33m,\u001b[0m\u001b[1;33m[\u001b[0m\u001b[1;36m6\u001b[0m\u001b[1;33m,\u001b[0m\u001b[1;36m7\u001b[0m\u001b[1;33m,\u001b[0m\u001b[1;36m8\u001b[0m\u001b[1;33m]\u001b[0m\u001b[1;33m]\u001b[0m\u001b[1;33m)\u001b[0m\u001b[1;33m\u001b[0m\u001b[1;33m\u001b[0m\u001b[0m\n\u001b[0m\u001b[0;32m      4\u001b[0m \u001b[1;31m#construct the following 2d array from the contents of x\u001b[0m\u001b[1;33m\u001b[0m\u001b[1;33m\u001b[0m\u001b[1;33m\u001b[0m\u001b[0m\n\u001b[0;32m      5\u001b[0m \u001b[0mp\u001b[0m\u001b[1;33m=\u001b[0m\u001b[0mnp\u001b[0m\u001b[1;33m.\u001b[0m\u001b[0marray\u001b[0m\u001b[1;33m(\u001b[0m\u001b[1;33m[\u001b[0m\u001b[1;33m[\u001b[0m\u001b[0mx\u001b[0m\u001b[1;33m[\u001b[0m\u001b[1;36m0\u001b[0m\u001b[1;33m,\u001b[0m\u001b[1;36m0\u001b[0m\u001b[1;33m]\u001b[0m\u001b[1;33m,\u001b[0m\u001b[0mx\u001b[0m\u001b[1;33m[\u001b[0m\u001b[1;36m0\u001b[0m\u001b[1;33m,\u001b[0m\u001b[1;36m1\u001b[0m\u001b[1;33m]\u001b[0m\u001b[1;33m]\u001b[0m\u001b[1;33m,\u001b[0m\u001b[1;33m[\u001b[0m\u001b[0mx\u001b[0m\u001b[1;33m[\u001b[0m\u001b[1;36m2\u001b[0m\u001b[1;33m,\u001b[0m\u001b[1;36m2\u001b[0m\u001b[1;33m]\u001b[0m\u001b[1;33m,\u001b[0m\u001b[0mx\u001b[0m\u001b[1;33m[\u001b[0m\u001b[1;36m2\u001b[0m\u001b[1;33m,\u001b[0m\u001b[1;36m2\u001b[0m\u001b[1;33m]\u001b[0m\u001b[1;33m]\u001b[0m\u001b[1;33m]\u001b[0m\u001b[1;33m)\u001b[0m\u001b[1;33m\u001b[0m\u001b[1;33m\u001b[0m\u001b[0m\n",
      "\u001b[1;31mNameError\u001b[0m: name 'np' is not defined"
     ]
    }
   ],
   "source": [
    "#CLASS TASK-V\n",
    "#consider X\n",
    "x=np.array([[0,1,2],[3,4,5],[6,7,8]])\n",
    "#construct the following 2d array from the contents of x\n",
    "p=np.array([[x[0,0],x[0,1]],[x[2,2],x[2,2]]])"
   ]
  },
  {
   "cell_type": "code",
   "execution_count": 4,
   "metadata": {},
   "outputs": [
    {
     "ename": "NameError",
     "evalue": "name 'np' is not defined",
     "output_type": "error",
     "traceback": [
      "\u001b[1;31m---------------------------------------------------------------------------\u001b[0m",
      "\u001b[1;31mNameError\u001b[0m                                 Traceback (most recent call last)",
      "\u001b[1;32m<ipython-input-4-bd1b20b21719>\u001b[0m in \u001b[0;36m<module>\u001b[1;34m\u001b[0m\n\u001b[0;32m      1\u001b[0m \u001b[1;31m#CLASS TASK-VI\u001b[0m\u001b[1;33m\u001b[0m\u001b[1;33m\u001b[0m\u001b[1;33m\u001b[0m\u001b[0m\n\u001b[0;32m      2\u001b[0m \u001b[1;31m#difference between resize and reshape in numpy array\u001b[0m\u001b[1;33m\u001b[0m\u001b[1;33m\u001b[0m\u001b[1;33m\u001b[0m\u001b[0m\n\u001b[1;32m----> 3\u001b[1;33m \u001b[0mr\u001b[0m\u001b[1;33m=\u001b[0m\u001b[0mnp\u001b[0m\u001b[1;33m.\u001b[0m\u001b[0marange\u001b[0m\u001b[1;33m(\u001b[0m\u001b[1;36m16\u001b[0m\u001b[1;33m)\u001b[0m\u001b[1;33m\u001b[0m\u001b[1;33m\u001b[0m\u001b[0m\n\u001b[0m\u001b[0;32m      4\u001b[0m \u001b[0mnp\u001b[0m\u001b[1;33m.\u001b[0m\u001b[0mshape\u001b[0m\u001b[1;33m(\u001b[0m\u001b[0mr\u001b[0m\u001b[1;33m)\u001b[0m\u001b[1;33m\u001b[0m\u001b[1;33m\u001b[0m\u001b[0m\n\u001b[0;32m      5\u001b[0m \u001b[0mr\u001b[0m\u001b[1;33m.\u001b[0m\u001b[0mreshape\u001b[0m\u001b[1;33m(\u001b[0m\u001b[1;36m4\u001b[0m\u001b[1;33m,\u001b[0m\u001b[1;36m4\u001b[0m\u001b[1;33m)\u001b[0m \u001b[1;31m#returns a reshaped array but the original remains unchanged\u001b[0m\u001b[1;33m\u001b[0m\u001b[1;33m\u001b[0m\u001b[0m\n",
      "\u001b[1;31mNameError\u001b[0m: name 'np' is not defined"
     ]
    }
   ],
   "source": [
    "#CLASS TASK-VI\n",
    "#difference between resize and reshape in numpy array\n",
    "r=np.arange(16)\n",
    "np.shape(r)\n",
    "r.reshape(4,4) #returns a reshaped array but the original remains unchanged\n",
    "r.resize(4,4) #change is made in original array"
   ]
  },
  {
   "cell_type": "code",
   "execution_count": 3,
   "metadata": {},
   "outputs": [],
   "source": [
    "#CLASS TASK-VII\n",
    "#difference btw ravel and flatten\n",
    "\n",
    "\n"
   ]
  },
  {
   "cell_type": "code",
   "execution_count": 4,
   "metadata": {},
   "outputs": [
    {
     "ename": "NameError",
     "evalue": "name 'np' is not defined",
     "output_type": "error",
     "traceback": [
      "\u001b[1;31m---------------------------------------------------------------------------\u001b[0m",
      "\u001b[1;31mNameError\u001b[0m                                 Traceback (most recent call last)",
      "\u001b[1;32m<ipython-input-4-61afab6c6db1>\u001b[0m in \u001b[0;36m<module>\u001b[1;34m\u001b[0m\n\u001b[0;32m      1\u001b[0m \u001b[1;31m#CLASS TASK-VIII\u001b[0m\u001b[1;33m\u001b[0m\u001b[1;33m\u001b[0m\u001b[1;33m\u001b[0m\u001b[0m\n\u001b[0;32m      2\u001b[0m \u001b[1;31m#consider an array\u001b[0m\u001b[1;33m\u001b[0m\u001b[1;33m\u001b[0m\u001b[1;33m\u001b[0m\u001b[0m\n\u001b[1;32m----> 3\u001b[1;33m \u001b[0mx\u001b[0m\u001b[1;33m=\u001b[0m\u001b[0mnp\u001b[0m\u001b[1;33m.\u001b[0m\u001b[0marray\u001b[0m\u001b[1;33m(\u001b[0m\u001b[1;33m[\u001b[0m\u001b[1;33m[\u001b[0m\u001b[1;36m42\u001b[0m\u001b[1;33m,\u001b[0m\u001b[1;36m22\u001b[0m\u001b[1;33m,\u001b[0m\u001b[1;36m12\u001b[0m\u001b[1;33m]\u001b[0m\u001b[1;33m,\u001b[0m\u001b[1;33m[\u001b[0m\u001b[1;36m44\u001b[0m\u001b[1;33m,\u001b[0m\u001b[1;36m53\u001b[0m\u001b[1;33m,\u001b[0m\u001b[1;36m66\u001b[0m\u001b[1;33m]\u001b[0m\u001b[1;33m]\u001b[0m\u001b[1;33m)\u001b[0m\u001b[1;33m\u001b[0m\u001b[1;33m\u001b[0m\u001b[0m\n\u001b[0m\u001b[0;32m      4\u001b[0m \u001b[1;31m#perform reshape, flatten, transpose, hstack and vstack\u001b[0m\u001b[1;33m\u001b[0m\u001b[1;33m\u001b[0m\u001b[1;33m\u001b[0m\u001b[0m\n\u001b[0;32m      5\u001b[0m \u001b[0mx\u001b[0m\u001b[1;33m.\u001b[0m\u001b[0mreshape\u001b[0m\u001b[1;33m(\u001b[0m\u001b[1;36m3\u001b[0m\u001b[1;33m,\u001b[0m\u001b[1;36m2\u001b[0m\u001b[1;33m)\u001b[0m\u001b[1;33m\u001b[0m\u001b[1;33m\u001b[0m\u001b[0m\n",
      "\u001b[1;31mNameError\u001b[0m: name 'np' is not defined"
     ]
    }
   ],
   "source": [
    "#CLASS TASK-VIII\n",
    "#consider an array\n",
    "x=np.array([[42,22,12],[44,53,66]])\n",
    "#perform reshape, flatten, transpose, hstack and vstack\n",
    "x.reshape(3,2)\n",
    "x.flatten()\n",
    "print(x.T)\n",
    "y=np.ones((2,2))\n",
    "z=np.zeros((4,3))\n",
    "hh=np.hstack((x,y))\n",
    "vv=np.vstack((x,z))\n",
    "print('The value is: ',x)\n",
    "print('the size of the array x is: ',np.shape(x))\n",
    "print('the hstack is',hh)\n",
    "print('the vstack is:',vv)"
   ]
  },
  {
   "cell_type": "code",
   "execution_count": 7,
   "metadata": {},
   "outputs": [
    {
     "name": "stdout",
     "output_type": "stream",
     "text": [
      "the array a is:  [ 1  2  4  7  9 88  6 45  9 76  3  4]\n",
      "np.where(a<=5) is:  (array([ 0,  1,  2, 10, 11], dtype=int64),)\n",
      "np.cumsum(x):  [1 3 6]\n",
      "np.unique(x):  [1 2 3]\n",
      "np.sort(x):  [1 2 3]\n",
      "np.sum is:  6\n",
      "np.min is:  1\n",
      "np.max is:  3\n",
      "np.argmax is:  2\n",
      "np.argmin is:  0\n"
     ]
    }
   ],
   "source": [
    "#CLASS TASK-IX\n",
    "#consider an array \n",
    "a=np.array([[1,2,4,7],[9,88,6,45],[9,76,3,4]])\n",
    "\n",
    "#1\n",
    "a=a.flatten()\n",
    "print('the array a is: ',a)\n",
    "y=np.where(a<5)\n",
    "print('np.where(a<=5) is: ',y)\n",
    "\n",
    "#2\n",
    "print('np.cumsum(x): ',np.cumsum(x))\n",
    "\n",
    "#3\n",
    "print('np.unique(x): ',np.unique(x))\n",
    "\n",
    "#4\n",
    "print('np.sort(x): ',np.sort(x))\n",
    "\n",
    "#5\n",
    "print('np.sum is: ',np.sum(x))\n",
    "print('np.min is: ',np.min(x))\n",
    "print('np.max is: ',np.max(x))\n",
    "print('np.argmax is: ',np.argmax(x))\n",
    "print('np.argmin is: ',np.argmin(x))"
   ]
  },
  {
   "cell_type": "code",
   "execution_count": 8,
   "metadata": {},
   "outputs": [
    {
     "name": "stdout",
     "output_type": "stream",
     "text": [
      "Numbers from a normal dist:  [ 0.22126888 -0.79441917 -2.48510637 -0.22214784 -1.0133908  -1.14171546\n",
      " -0.34569824 -1.51240707 -0.35713885 -0.35492418]\n",
      "\n",
      "Numbers from a binomial distribution:  [2 2 2 1 6 3 2 3 3 3 4 1]\n"
     ]
    }
   ],
   "source": [
    "#CLASS TASK-X\n",
    "#1. gen random nos from normal dist with size10\n",
    "#2. gen random nos from binomial dist\n",
    "#import scipy.stats\n",
    "x=np.random.normal(size=10)\n",
    "print('Numbers from a normal dist: ',x)\n",
    "y=np.random.binomial(15,0.2,12)\n",
    "print('\\nNumbers from a binomial distribution: ',y)"
   ]
  },
  {
   "cell_type": "code",
   "execution_count": 9,
   "metadata": {},
   "outputs": [
    {
     "name": "stdout",
     "output_type": "stream",
     "text": [
      "[8589934593]\n"
     ]
    }
   ],
   "source": [
    "#CLASS TASK-XI\n",
    "#1.np.savetxt\n",
    "x=np.savetxt('SavingMyFirstTextFile.txt',x,delimiter=',')\n",
    "#2.np.loadtxt\n",
    "from io import StringIO\n",
    "c=StringIO(\"0 1 2 \\n3 4 5\")\n",
    "d=np.loadtxt(c)\n",
    "#3.np.tofile\n",
    "np.array([1,2,3]).tofile(\"a.bin\")\n",
    "print(np.fromfile(\"a.bin\",dtype=np.int64))\n",
    "#4.np.fromfile\n",
    "np.fromfile('SavingMyFirstTextFile.txt',dtype=float,count=-1,sep='')\n",
    "#5.np.savez\n",
    "np.savez('SavingMyFirstTextFile.txt')\n"
   ]
  },
  {
   "cell_type": "code",
   "execution_count": 10,
   "metadata": {},
   "outputs": [
    {
     "name": "stdout",
     "output_type": "stream",
     "text": [
      "\n",
      "np.intersection1d(x[0],x[1],x[2]):  [6 7]\n",
      "\n",
      "np.union1d(x[0],x[1],x[2]):  [1 2 3 4 5 6 7 8]\n",
      "\n",
      "np.setdiff1d(x[0],x[1]):  [2 3 4 5]\n",
      "\n",
      "np.setxor1d(x[0],x[1]):  [2 3 4 5 6 7 8]\n"
     ]
    }
   ],
   "source": [
    "#CLASS TASK-XII\n",
    "#perform the set operations on the following array:\n",
    "x=[[3,5,2,4],[7,6,8,8],[1,6,7,7]]\n",
    "#intersection\n",
    "print('\\nnp.intersection1d(x[0],x[1],x[2]): ',np.intersect1d((x[0],x[1]),x[2]))\n",
    "#union\n",
    "print('\\nnp.union1d(x[0],x[1],x[2]): ',np.union1d((x[0],x[1]),(x[2])))\n",
    "#setDifference\n",
    "print('\\nnp.setdiff1d(x[0],x[1]): ',np.setdiff1d(x[0],x[1]))\n",
    "#set XOR\n",
    "print('\\nnp.setxor1d(x[0],x[1]): ',np.setxor1d(x[0],x[1]))"
   ]
  },
  {
   "cell_type": "code",
   "execution_count": 11,
   "metadata": {},
   "outputs": [
    {
     "name": "stdout",
     "output_type": "stream",
     "text": [
      "[[  8   3  -2   7]\n",
      " [  6   2   2   3]\n",
      " [  3   0   0  12]\n",
      " [  7 -13   6   6]]\n",
      "The sqrt method:  [[2.828 1.732   nan 2.646]\n",
      " [2.45  1.414 1.414 1.732]\n",
      " [1.732 0.    0.    3.465]\n",
      " [2.646   nan 2.45  2.45 ]]\n",
      "The absolute method:  [[ 8  3  2  7]\n",
      " [ 6  2  2  3]\n",
      " [ 3  0  0 12]\n",
      " [ 7 13  6  6]]\n",
      "The exp is:  [[2.980e+03 2.008e+01 1.354e-01 1.097e+03]\n",
      " [4.035e+02 7.391e+00 7.391e+00 2.008e+01]\n",
      " [2.008e+01 1.000e+00 1.000e+00       inf]\n",
      " [1.097e+03 2.265e-06 4.035e+02 4.035e+02]]\n",
      "The sign method:  [[ 1  1 -1  1]\n",
      " [ 1  1  1  1]\n",
      " [ 1  0  0  1]\n",
      " [ 1 -1  1  1]]\n",
      "The sin, cos, tan are:  [[ 0.9893  0.1411 -0.909   0.657 ]\n",
      " [-0.2793  0.909   0.909   0.1411]\n",
      " [ 0.1411  0.      0.     -0.5366]\n",
      " [ 0.657  -0.4202 -0.2793 -0.2793]] [[-0.1455 -0.99   -0.4163  0.754 ]\n",
      " [ 0.96   -0.4163 -0.4163 -0.99  ]\n",
      " [-0.99    1.      1.      0.8438]\n",
      " [ 0.754   0.907   0.96    0.96  ]] [[-6.8    -0.1426  2.186   0.8716]\n",
      " [-0.291  -2.186  -2.186  -0.1426]\n",
      " [-0.1426  0.      0.     -0.6357]\n",
      " [ 0.8716 -0.4631 -0.291  -0.291 ]]\n",
      "the isnan identifier is:  [[False False False False]\n",
      " [False False False False]\n",
      " [False False False False]\n",
      " [False False False False]]\n",
      "Is infinity or not:  [[False False False False]\n",
      " [False False False False]\n",
      " [False False False False]\n",
      " [False False False False]] [[ True  True  True  True]\n",
      " [ True  True  True  True]\n",
      " [ True  True  True  True]\n",
      " [ True  True  True  True]]\n"
     ]
    },
    {
     "name": "stderr",
     "output_type": "stream",
     "text": [
      "C:\\Users\\Lenovo\\Anaconda3\\lib\\site-packages\\ipykernel_launcher.py:6: RuntimeWarning: invalid value encountered in sqrt\n",
      "  \n",
      "C:\\Users\\Lenovo\\Anaconda3\\lib\\site-packages\\ipykernel_launcher.py:8: RuntimeWarning: overflow encountered in exp\n",
      "  \n"
     ]
    }
   ],
   "source": [
    "#CLASS TASK-XIII\n",
    "#implement other methods mentioned in the image(abs,exp,sin,cos...) on arr\n",
    "from numpy.random import randn\n",
    "arr=np.array(randn(4,4)*10,dtype=np.int8)\n",
    "print(arr)\n",
    "print('The sqrt method: ',np.sqrt(arr))\n",
    "print('The absolute method: ',np.abs(arr))\n",
    "print('The exp is: ',np.exp(arr))\n",
    "print('The sign method: ',np.sign(arr))\n",
    "print('The sin, cos, tan are: ',np.sin(arr),np.cos(arr),np.tan(arr))\n",
    "print('the isnan identifier is: ',np.isnan(arr))\n",
    "print('Is infinity or not: ',np.isinf(arr),np.isfinite(arr))"
   ]
  },
  {
   "cell_type": "code",
   "execution_count": null,
   "metadata": {},
   "outputs": [],
   "source": []
  }
 ],
 "metadata": {
  "kernelspec": {
   "display_name": "Python 3",
   "language": "python",
   "name": "python3"
  },
  "language_info": {
   "codemirror_mode": {
    "name": "ipython",
    "version": 3
   },
   "file_extension": ".py",
   "mimetype": "text/x-python",
   "name": "python",
   "nbconvert_exporter": "python",
   "pygments_lexer": "ipython3",
   "version": "3.7.4"
  }
 },
 "nbformat": 4,
 "nbformat_minor": 2
}
