{
 "cells": [
  {
   "cell_type": "code",
   "execution_count": 1,
   "metadata": {},
   "outputs": [
    {
     "name": "stdout",
     "output_type": "stream",
     "text": [
      "The three groups are \n",
      "G1= nisha16.mailing\n",
      "G2= gmail\n",
      "G3= com \n"
     ]
    }
   ],
   "source": [
    "#CLASS TASK XII\n",
    "ctr=0\n",
    "str=\"nisha16.mailing@gmail.com\"\n",
    "for i in range(len(str)):\n",
    "    if str[i]==\"@\":\n",
    "        g1=str[0:i]\n",
    "        ctr=i\n",
    "    if str[i]==\".\":\n",
    "        g2=str[ctr+1:i]\n",
    "        g3=str[i+1:len(str)]\n",
    "print(\"The three groups are \\nG1= %s\\nG2= %s\\nG3= %s \"%(g1,g2,g3))\n",
    "    \n"
   ]
  },
  {
   "cell_type": "code",
   "execution_count": 2,
   "metadata": {},
   "outputs": [
    {
     "data": {
      "text/plain": [
       "[1, 4, 9, 16]"
      ]
     },
     "execution_count": 2,
     "metadata": {},
     "output_type": "execute_result"
    }
   ],
   "source": [
    "#CLASS TASK-XIV\n",
    "#list comprehensions can be used to define a function in a single line, lambda can also be used for the same purpose\n",
    "#but lambda functions cannot be iterated over a for loop, functions written by list comprehensions can be iterated over a for loop.\n",
    "squares=[i**2 for i in range(1,5)]\n",
    "x=lambda a: a**2\n",
    "x(2)\n",
    "squares"
   ]
  },
  {
   "cell_type": "code",
   "execution_count": 2,
   "metadata": {
    "scrolled": true
   },
   "outputs": [
    {
     "name": "stdout",
     "output_type": "stream",
     "text": [
      "96\n",
      "51\n",
      "The decimal value of 334 is:\n",
      "\n",
      " 0b101001110 in binary.\n",
      "\n",
      " 0o516 in octal.\n",
      "\n",
      " 0x14e in hexadecimal.\n"
     ]
    },
    {
     "data": {
      "text/plain": [
       "-11"
      ]
     },
     "execution_count": 2,
     "metadata": {},
     "output_type": "execute_result"
    }
   ],
   "source": [
    "#CLASS TASK-I\n",
    "#VALUE OF THE EXPRESSION 6*(7+9) IN PYHTON\n",
    "print(6*(7+9))\n",
    "\n",
    "#avlue of (6*7+9)\n",
    "print(6*7+9)\n",
    "\n",
    "#convert an integer to a floating point number float(x)\n",
    "float(4)\n",
    "\n",
    "#convert an octal, hexadecimal or binary string to int and vice versa\n",
    "#to convert decimal to other systems\n",
    "dec=334\n",
    "print(\"The decimal value of\",dec,\"is:\")\n",
    "print(\"\\n\",bin(dec), \"in binary.\")\n",
    "print(\"\\n\",oct(dec), \"in octal.\")\n",
    "print(\"\\n\",hex(dec), \"in hexadecimal.\")\n",
    "\n",
    "#convert from binary to decimal\n",
    "int('0b101001110',2)\n",
    "#convert from octal to decimal\n",
    "int('0o516',8)\n",
    "#convert from hexadecimal to decimal\n",
    "int('0x14e',16)\n",
    "\n",
    "#truncate and round a floating-point number\n",
    "#function to truncate values\n",
    "import math\n",
    "math.trunc(-10.90)\n",
    "#truncate values by int function\n",
    "int(-10.9)\n",
    "#function to round off values\n",
    "round(-10.91,1)\n",
    "round(-10.9)\n",
    "\n"
   ]
  },
  {
   "cell_type": "code",
   "execution_count": 18,
   "metadata": {},
   "outputs": [
    {
     "name": "stdout",
     "output_type": "stream",
     "text": [
      "[1, 2, 2, 3, 4, 5]\n"
     ]
    }
   ],
   "source": [
    "#CLASS TASK-II\n",
    "#difference between sort method and sorted method\n",
    "#sort() will modify the list it is called on\n",
    "#sorted() will create a new list containing a sorted version of list\n",
    "list1=[1,4,3,2,2,5]\n",
    "sorted(list1)\n",
    "sorted(list1,reverse=True)\n",
    "list1.sort()\n",
    "print(list1)\n",
    "\n",
    "#difference between pop method and remove method\n",
    "#remove simply removes the value from the list\n",
    "#pop removes the value at that index in the list and returns the same\n",
    "list1.remove(1)\n",
    "list1.pop(2)\n",
    "\n",
    "#explore index(),insert()\n",
    "#list_name.insert(i,elt) inserts elt in the ith index in list\n",
    "list1.insert(2,4)\n",
    "#index(elt) returns the value of the index of the elt in list\n",
    "list1.index(2)\n",
    "\n",
    "#del cities[0] deletes the elt at index 0\n",
    "#del cities[1:] deletes elts from index 1 to end\n",
    "cities=['Bangalore','Delhi','Kolkata','Mumbai']\n",
    "del cities[0]\n",
    "del cities[1:]"
   ]
  },
  {
   "cell_type": "code",
   "execution_count": 23,
   "metadata": {},
   "outputs": [
    {
     "name": "stdout",
     "output_type": "stream",
     "text": [
      "(1, 5, 6)\n"
     ]
    }
   ],
   "source": [
    "#CLASS TASK-III\n",
    "#why lists and tuples\n",
    "#lists are mutable, tuples are not\n",
    "list1=['apple','berry','orange','pear']\n",
    "tuple1=('apple','berry','orange','pear')\n",
    "list1[1]='guava'\n",
    "#tuple1[1]='guava' #gives error 'tuple' object does not support item assignment\n",
    "\n",
    "#expression to change (4,5,6) to (1,5,6)\n",
    "#convert tuple to list, change the value, convert back to tuple\n",
    "tuple1=(4,5,6)\n",
    "list2=list(tuple1)\n",
    "list2[0]=1\n",
    "tuple1=tuple(list2)\n",
    "print(tuple1)"
   ]
  },
  {
   "cell_type": "code",
   "execution_count": 24,
   "metadata": {},
   "outputs": [],
   "source": [
    "#CLASS TASK-IV\n",
    "#create a python dictionary and add elts(key,value) pair to it\n",
    "x=dict(zip(['Maharashtra','West Bengal','Assam'],['Mumbai','Kolkata','Dispur']))\n",
    "y={k: v for (k,v) in zip(['Summer','Winter','Spring'],['ice','sweaters','rain'])}\n"
   ]
  },
  {
   "cell_type": "code",
   "execution_count": 25,
   "metadata": {},
   "outputs": [],
   "source": [
    "#CLASS TASK-V\n",
    "#dict for multiples of 4 with keys as 1,2,3,4\n",
    "D={x:4*x for x in [1,2,3,4]}\n",
    "\n",
    "#Name four operations that change dictionary object in-place.\n"
   ]
  },
  {
   "cell_type": "code",
   "execution_count": 26,
   "metadata": {},
   "outputs": [
    {
     "name": "stdout",
     "output_type": "stream",
     "text": [
      "Number of characters in the string str1 is:  6\n"
     ]
    }
   ],
   "source": [
    "#CLASS TASK-VI\n",
    "ctr=0\n",
    "str1=\"a\\nb\\x1f\\000d\"\n",
    "for i in range(len(str1)):\n",
    "    ctr=ctr+1\n",
    "print(\"Number of characters in the string str1 is: \",ctr)"
   ]
  },
  {
   "cell_type": "code",
   "execution_count": 27,
   "metadata": {},
   "outputs": [],
   "source": [
    "#CLASS TASK-VII\n",
    "str1=\"Today we got\\a task on Python Basics\"\n",
    "str2=\"\"\"Today we got\\na task on\\nPython Basics\"\"\""
   ]
  },
  {
   "cell_type": "code",
   "execution_count": 28,
   "metadata": {},
   "outputs": [
    {
     "name": "stdout",
     "output_type": "stream",
     "text": [
      "20\n"
     ]
    }
   ],
   "source": [
    "#CLASS TASK-VIII\n",
    "#calculate the length of the string\n",
    "str1='Python for Beginners'\n",
    "ctr=0\n",
    "for i in range(len(str1)):\n",
    "    ctr=ctr+1\n",
    "print(ctr)\n",
    "\n",
    "#combine two strings\n",
    "str1=\"Python\"\n",
    "str2=\"for Data Science\"\n",
    "str3=str1+str2\n",
    "print(str3)\n",
    "\n"
   ]
  },
  {
   "cell_type": "code",
   "execution_count": 48,
   "metadata": {},
   "outputs": [
    {
     "name": "stdout",
     "output_type": "stream",
     "text": [
      "ocument will help you to explore all the concepts of Python String\n",
      "The value of i is:   \n",
      "The value of i is:  T\n",
      "The value of i is:  h\n",
      "The value of i is:  i\n",
      "The value of i is:  s\n",
      "The value of i is:   \n",
      "The value of i is:  d\n",
      "The value of i is:  o\n",
      "The value of i is:  c\n",
      "The value of i is:  u\n",
      "The value of i is:  m\n",
      "The value of i is:  e\n",
      "The value of i is:  n\n",
      "The value of i is:  t\n",
      "The value of i is:   \n",
      "The value of i is:  w\n",
      "The value of i is:  i\n",
      "The value of i is:  l\n",
      "The value of i is:  l\n",
      "The value of i is:   \n",
      "The value of i is:  h\n",
      "The value of i is:  e\n",
      "The value of i is:  l\n",
      "The value of i is:  p\n",
      "The value of i is:   \n",
      "The value of i is:  y\n",
      "The value of i is:  o\n",
      "The value of i is:  u\n",
      "The value of i is:   \n",
      "The value of i is:  t\n",
      "The value of i is:  o\n",
      "The value of i is:   \n",
      "The value of i is:  e\n",
      "The value of i is:  x\n",
      "The value of i is:  p\n",
      "The value of i is:  l\n",
      "The value of i is:  o\n",
      "The value of i is:  r\n",
      "The value of i is:  e\n",
      "The value of i is:   \n",
      "The value of i is:  a\n",
      "The value of i is:  l\n",
      "The value of i is:  l\n",
      "The value of i is:   \n",
      "The value of i is:  t\n",
      "The value of i is:  h\n",
      "The value of i is:  e\n",
      "The value of i is:   \n",
      "The value of i is:  c\n",
      "The value of i is:  o\n",
      "The value of i is:  n\n",
      "The value of i is:  c\n",
      "The value of i is:  e\n",
      "The value of i is:  p\n",
      "The value of i is:  t\n",
      "The value of i is:  s\n",
      "The value of i is:   \n",
      "The value of i is:  o\n",
      "The value of i is:  f\n",
      "The value of i is:   \n",
      "The value of i is:  P\n",
      "The value of i is:  y\n",
      "The value of i is:  t\n",
      "The value of i is:  h\n",
      "The value of i is:  o\n",
      "The value of i is:  n\n",
      "The value of i is:   \n",
      "The value of i is:  S\n",
      "The value of i is:  t\n",
      "The value of i is:  r\n",
      "The value of i is:  i\n",
      "The value of i is:  n\n",
      "The value of i is:  g\n",
      "The value of i is:  s\n",
      "The value of i is:  !\n",
      "The value of i is:  !\n",
      "The value of i is:  !\n",
      "ThisdocumentwillhelpyoutoexplorealltheconceptsofPythonStrings\n"
     ]
    },
    {
     "data": {
      "text/plain": [
       "False"
      ]
     },
     "execution_count": 48,
     "metadata": {},
     "output_type": "execute_result"
    }
   ],
   "source": [
    "#CLASS TASK-IX\n",
    "#slicing a string\n",
    "string_var=\"\"\" This document will help you to explore all the concepts of Python Strings!!!\"\"\"\n",
    "print(string_var[7:-4])\n",
    "\n",
    "#string_name.replace(old,new)\n",
    "string_var.replace('document','task')\n",
    "\n",
    "#splitting the string with space\n",
    "string_var.split()\n",
    "\n",
    "#convert the entire string to lowercase\n",
    "string_var.lower()\n",
    "\n",
    "#remove all special characters and retain only test in the string\n",
    "for i in string_var:\n",
    "    print(\"The value of i is: \",i)\n",
    "    if(i.isalnum()==False):\n",
    "        string_var=string_var.replace(i,'')\n",
    "print(string_var)\n",
    "\n",
    "#check if the string isaplha()\n",
    "string_var.isalpha()\n",
    "\n",
    "#check if the string ends with character S\n",
    "string_var[-1]=='S'\n",
    "\n"
   ]
  },
  {
   "cell_type": "code",
   "execution_count": null,
   "metadata": {},
   "outputs": [],
   "source": [
    "#CLASS TASK-X\n",
    "#try to find out the various format expressions mostly used\n",
    "#%s for string, %d for integers, %0.4f for floating point numbers with 4 digits to the right of the dot\n",
    "i=10\n",
    "#application of these format strings\n",
    "print(\"This is the value of i: %d as it is a integer\"%i)"
   ]
  },
  {
   "cell_type": "code",
   "execution_count": null,
   "metadata": {},
   "outputs": [],
   "source": [
    "#CLASS TASK-XI\n",
    "temp=input(\"Enter the temperature in Hyderabad.\")\n",
    "temp=int(temp)\n",
    "type(temp)\n",
    "if temp>42:\n",
    "    print(\"It is very sunny today\")\n",
    "else:\n",
    "    print(\"The weather is okay\")"
   ]
  },
  {
   "cell_type": "code",
   "execution_count": 3,
   "metadata": {},
   "outputs": [
    {
     "name": "stdout",
     "output_type": "stream",
     "text": [
      "0\n",
      "1\n",
      "2\n",
      "3\n",
      "4\n",
      "5\n",
      "6\n",
      "7\n",
      "4\n",
      "5\n",
      "3\n",
      "2\n",
      "0\n",
      "1\n",
      "2\n",
      "3\n",
      "0 apples\n",
      "1 pears\n",
      "2 oranges\n",
      "3 fruits\n",
      "The number of indices is 4\n"
     ]
    }
   ],
   "source": [
    "#CLASS TASK-XII\n",
    "#Try to use various iterators in for loop like range, list, dictionaries and so on.\n",
    "for i in range(8):\n",
    "    print(i)\n",
    "list1=[4,5,3,2]\n",
    "for i in list1:\n",
    "    print(i)\n",
    "for i in range(len(list1)):\n",
    "    print(i)\n",
    "\n",
    "#(i) Using enumerators execute For loop (ii) Count the index of the for loop using count variable.Also,Compare the above codes and find out the difference between them.\n",
    "my_list=[\"apples\",\"pears\",\"oranges\",\"fruits\"]\n",
    "for x,element in enumerate(my_list):\n",
    "    print(x,element)\n",
    "count=0\n",
    "for i in my_list:\n",
    "    count=count+1\n",
    "print(\"The number of indices is\",count)\n"
   ]
  },
  {
   "cell_type": "code",
   "execution_count": null,
   "metadata": {},
   "outputs": [],
   "source": [
    "#CLASS TASK-XIV\n",
    "num=input(\"Enter a floating point number\")\n",
    "if type(num)==int:\n",
    "    raise Exception('x should be a floating point and not an integer')\n",
    "    \n",
    "    \n",
    "    "
   ]
  },
  {
   "cell_type": "code",
   "execution_count": null,
   "metadata": {},
   "outputs": [],
   "source": []
  },
  {
   "cell_type": "code",
   "execution_count": null,
   "metadata": {},
   "outputs": [],
   "source": []
  },
  {
   "cell_type": "code",
   "execution_count": null,
   "metadata": {},
   "outputs": [],
   "source": []
  }
 ],
 "metadata": {
  "kernelspec": {
   "display_name": "Python 3",
   "language": "python",
   "name": "python3"
  },
  "language_info": {
   "codemirror_mode": {
    "name": "ipython",
    "version": 3
   },
   "file_extension": ".py",
   "mimetype": "text/x-python",
   "name": "python",
   "nbconvert_exporter": "python",
   "pygments_lexer": "ipython3",
   "version": "3.7.4"
  }
 },
 "nbformat": 4,
 "nbformat_minor": 2
}
